{
 "cells": [
  {
   "cell_type": "markdown",
   "metadata": {},
   "source": [
    "# Stock Prediction Model With LSTM"
   ]
  },
  {
   "cell_type": "code",
   "execution_count": 2,
   "metadata": {},
   "outputs": [],
   "source": [
    "# Import Necessary Libraries \n",
    "import numpy as np\n",
    "import pandas as pd\n",
    "import matplotlib.pyplot as plt\n",
    "from sklearn.preprocessing import MinMaxScaler\n",
    "from keras.models import Sequential, load_model\n",
    "from keras.layers import LSTM, Dense, Dropout\n",
    "import os\n",
    "import tensorflow as tf"
   ]
  },
  {
   "cell_type": "code",
   "execution_count": 3,
   "metadata": {},
   "outputs": [
    {
     "data": {
      "text/html": [
       "<div>\n",
       "<style scoped>\n",
       "    .dataframe tbody tr th:only-of-type {\n",
       "        vertical-align: middle;\n",
       "    }\n",
       "\n",
       "    .dataframe tbody tr th {\n",
       "        vertical-align: top;\n",
       "    }\n",
       "\n",
       "    .dataframe thead th {\n",
       "        text-align: right;\n",
       "    }\n",
       "</style>\n",
       "<table border=\"1\" class=\"dataframe\">\n",
       "  <thead>\n",
       "    <tr style=\"text-align: right;\">\n",
       "      <th></th>\n",
       "      <th>Date</th>\n",
       "      <th>Open</th>\n",
       "      <th>High</th>\n",
       "      <th>Low</th>\n",
       "      <th>Close</th>\n",
       "      <th>Adj Close</th>\n",
       "      <th>Volume</th>\n",
       "    </tr>\n",
       "  </thead>\n",
       "  <tbody>\n",
       "    <tr>\n",
       "      <th>0</th>\n",
       "      <td>2010-01-04</td>\n",
       "      <td>10480.0</td>\n",
       "      <td>10500.0</td>\n",
       "      <td>10420.0</td>\n",
       "      <td>10440.0</td>\n",
       "      <td>0.005810</td>\n",
       "      <td>683350.0</td>\n",
       "    </tr>\n",
       "    <tr>\n",
       "      <th>1</th>\n",
       "      <td>2010-01-05</td>\n",
       "      <td>10540.0</td>\n",
       "      <td>10620.0</td>\n",
       "      <td>10500.0</td>\n",
       "      <td>10600.0</td>\n",
       "      <td>0.005899</td>\n",
       "      <td>657750.0</td>\n",
       "    </tr>\n",
       "    <tr>\n",
       "      <th>2</th>\n",
       "      <td>2010-01-06</td>\n",
       "      <td>10640.0</td>\n",
       "      <td>10760.0</td>\n",
       "      <td>10400.0</td>\n",
       "      <td>10760.0</td>\n",
       "      <td>0.005988</td>\n",
       "      <td>1577900.0</td>\n",
       "    </tr>\n",
       "    <tr>\n",
       "      <th>3</th>\n",
       "      <td>2010-01-07</td>\n",
       "      <td>10820.0</td>\n",
       "      <td>10820.0</td>\n",
       "      <td>10460.0</td>\n",
       "      <td>10580.0</td>\n",
       "      <td>0.005888</td>\n",
       "      <td>1717500.0</td>\n",
       "    </tr>\n",
       "    <tr>\n",
       "      <th>4</th>\n",
       "      <td>2010-01-08</td>\n",
       "      <td>10720.0</td>\n",
       "      <td>10720.0</td>\n",
       "      <td>10480.0</td>\n",
       "      <td>10520.0</td>\n",
       "      <td>0.005854</td>\n",
       "      <td>642350.0</td>\n",
       "    </tr>\n",
       "  </tbody>\n",
       "</table>\n",
       "</div>"
      ],
      "text/plain": [
       "         Date     Open     High      Low    Close  Adj Close     Volume\n",
       "0  2010-01-04  10480.0  10500.0  10420.0  10440.0   0.005810   683350.0\n",
       "1  2010-01-05  10540.0  10620.0  10500.0  10600.0   0.005899   657750.0\n",
       "2  2010-01-06  10640.0  10760.0  10400.0  10760.0   0.005988  1577900.0\n",
       "3  2010-01-07  10820.0  10820.0  10460.0  10580.0   0.005888  1717500.0\n",
       "4  2010-01-08  10720.0  10720.0  10480.0  10520.0   0.005854   642350.0"
      ]
     },
     "execution_count": 3,
     "metadata": {},
     "output_type": "execute_result"
    }
   ],
   "source": [
    "# Read data set\n",
    "df = pd.read_csv('Desktop/samsung_train.csv')\n",
    "df.head()"
   ]
  },
  {
   "cell_type": "code",
   "execution_count": 4,
   "metadata": {},
   "outputs": [
    {
     "name": "stdout",
     "output_type": "stream",
     "text": [
      "Date          0\n",
      "Open         78\n",
      "High         78\n",
      "Low          78\n",
      "Close        78\n",
      "Adj Close    78\n",
      "Volume       78\n",
      "dtype: int64\n"
     ]
    }
   ],
   "source": [
    "print(pd.isnull(df).sum())"
   ]
  },
  {
   "cell_type": "code",
   "execution_count": 6,
   "metadata": {},
   "outputs": [],
   "source": [
    "# Dropping all Na rows\n",
    "df = df.dropna()"
   ]
  },
  {
   "cell_type": "code",
   "execution_count": 7,
   "metadata": {},
   "outputs": [
    {
     "name": "stdout",
     "output_type": "stream",
     "text": [
      "Date         0\n",
      "Open         0\n",
      "High         0\n",
      "Low          0\n",
      "Close        0\n",
      "Adj Close    0\n",
      "Volume       0\n",
      "dtype: int64\n"
     ]
    }
   ],
   "source": [
    "print(pd.isnull(df).sum())"
   ]
  },
  {
   "cell_type": "code",
   "execution_count": 8,
   "metadata": {},
   "outputs": [
    {
     "name": "stdout",
     "output_type": "stream",
     "text": [
      "(2359, 1)\n"
     ]
    },
    {
     "data": {
      "text/plain": [
       "array([[10440.],\n",
       "       [10600.],\n",
       "       [10760.],\n",
       "       [10580.],\n",
       "       [10520.],\n",
       "       [10200.],\n",
       "       [10380.]])"
      ]
     },
     "execution_count": 8,
     "metadata": {},
     "output_type": "execute_result"
    }
   ],
   "source": [
    "#preprocessing our data\n",
    "\n",
    "df = df['Close'].values\n",
    "df = df.reshape(-1,1)\n",
    "print(df.shape) #shape Check\n",
    "df[:7]"
   ]
  },
  {
   "cell_type": "code",
   "execution_count": 9,
   "metadata": {},
   "outputs": [
    {
     "name": "stdout",
     "output_type": "stream",
     "text": [
      "(1887, 1)\n",
      "(522, 1)\n"
     ]
    }
   ],
   "source": [
    "dataset_train = np.array(df[:int(df.shape[0]*0.8)])\n",
    "dataset_test = np.array(df[int(df.shape[0]*0.8)-50:])\n",
    "print(dataset_train.shape)\n",
    "print(dataset_test.shape)"
   ]
  },
  {
   "cell_type": "code",
   "execution_count": 10,
   "metadata": {},
   "outputs": [
    {
     "data": {
      "text/plain": [
       "array([[0.03064771],\n",
       "       [0.035703  ],\n",
       "       [0.04075829],\n",
       "       [0.03507109],\n",
       "       [0.03317536],\n",
       "       [0.02306477],\n",
       "       [0.02875197]])"
      ]
     },
     "execution_count": 10,
     "metadata": {},
     "output_type": "execute_result"
    }
   ],
   "source": [
    "#Normalization\n",
    "scaler = MinMaxScaler(feature_range=(0,1))\n",
    "dataset_train = scaler.fit_transform(dataset_train)\n",
    "dataset_train[:7]"
   ]
  },
  {
   "cell_type": "code",
   "execution_count": 11,
   "metadata": {},
   "outputs": [
    {
     "data": {
      "text/plain": [
       "array([[0.84012638],\n",
       "       [0.83823065],\n",
       "       [0.85023697],\n",
       "       [0.87488152],\n",
       "       [0.86034755],\n",
       "       [0.85971564],\n",
       "       [0.8628752 ]])"
      ]
     },
     "execution_count": 11,
     "metadata": {},
     "output_type": "execute_result"
    }
   ],
   "source": [
    "dataset_test = scaler.transform(dataset_test)\n",
    "dataset_test[:7]"
   ]
  },
  {
   "cell_type": "code",
   "execution_count": 12,
   "metadata": {},
   "outputs": [],
   "source": [
    "def create_my_dataset(df):\n",
    "    x = []\n",
    "    y = []\n",
    "    for i in range(50,df.shape[0]):\n",
    "        x.append(df[i-50:i,0])\n",
    "        y.append(df[i,0])\n",
    "    x = np.array(x)\n",
    "    y = np.array(y)\n",
    "    return x,y"
   ]
  },
  {
   "cell_type": "code",
   "execution_count": 13,
   "metadata": {},
   "outputs": [
    {
     "data": {
      "text/plain": [
       "array([[0.03064771, 0.035703  , 0.04075829, 0.03507109, 0.03317536,\n",
       "        0.02306477, 0.02875197, 0.02180095, 0.02875197, 0.02875197,\n",
       "        0.02938389, 0.0300158 , 0.03759874, 0.04202212, 0.035703  ,\n",
       "        0.03696682, 0.02938389, 0.02116904, 0.02116904, 0.02496051,\n",
       "        0.01800948, 0.02432859, 0.02559242, 0.02306477, 0.01169036,\n",
       "        0.01548183, 0.01263823, 0.01200632, 0.0192733 , 0.01990521,\n",
       "        0.0192733 , 0.02180095, 0.01864139, 0.01548183, 0.01990521,\n",
       "        0.01200632, 0.00758294, 0.        , 0.00884676, 0.0164297 ,\n",
       "        0.01421801, 0.01200632, 0.01421801, 0.01611374, 0.01421801,\n",
       "        0.01611374, 0.01484992, 0.01674566, 0.01990521, 0.02180095]])"
      ]
     },
     "execution_count": 13,
     "metadata": {},
     "output_type": "execute_result"
    }
   ],
   "source": [
    "x_train, y_train = create_my_dataset(dataset_train)\n",
    "x_train[:1]"
   ]
  },
  {
   "cell_type": "code",
   "execution_count": 14,
   "metadata": {},
   "outputs": [
    {
     "data": {
      "text/plain": [
       "array([0.02938389])"
      ]
     },
     "execution_count": 14,
     "metadata": {},
     "output_type": "execute_result"
    }
   ],
   "source": [
    "y_train[:1]"
   ]
  },
  {
   "cell_type": "code",
   "execution_count": 15,
   "metadata": {},
   "outputs": [
    {
     "data": {
      "text/plain": [
       "array([[0.84012638, 0.83823065, 0.85023697, 0.87488152, 0.86034755,\n",
       "        0.85971564, 0.8628752 , 0.86477093, 0.87172196, 0.88436019,\n",
       "        0.91469194, 0.90205371, 0.9014218 , 0.90078989, 0.91090047,\n",
       "        0.91469194, 0.88941548, 0.9014218 , 0.87740916, 0.88246445,\n",
       "        0.86919431, 0.87993681, 0.89826224, 0.89004739, 0.91279621,\n",
       "        0.91974724, 0.92796209, 0.9563981 , 0.95134281, 0.97725118,\n",
       "        0.96524487, 0.96777251, 0.9778831 , 1.        , 0.98862559,\n",
       "        0.96650869, 0.9507109 , 0.96082148, 0.91406003, 0.92101106,\n",
       "        0.91532385, 0.93870458, 0.88688784, 0.88815166, 0.89763033,\n",
       "        0.91406003, 0.88309637, 0.87235387, 0.83823065, 0.85655608]])"
      ]
     },
     "execution_count": 15,
     "metadata": {},
     "output_type": "execute_result"
    }
   ],
   "source": [
    "x_test, y_test = create_my_dataset(dataset_test)\n",
    "x_test[:1]"
   ]
  },
  {
   "cell_type": "code",
   "execution_count": 16,
   "metadata": {},
   "outputs": [
    {
     "name": "stdout",
     "output_type": "stream",
     "text": [
      "(1837, 50, 1)\n",
      "(472, 50, 1)\n"
     ]
    }
   ],
   "source": [
    "#reshaping for LSTM\n",
    "x_train = np.reshape(x_train, (x_train.shape[0],x_train.shape[1],1))\n",
    "x_test = np.reshape(x_test, (x_test.shape[0], x_test.shape[1],1))\n",
    "print(x_train.shape)\n",
    "print(x_test.shape)"
   ]
  },
  {
   "cell_type": "code",
   "execution_count": 17,
   "metadata": {},
   "outputs": [],
   "source": [
    "tf.logging.set_verbosity(tf.logging.ERROR)\n",
    "model = Sequential()\n",
    "model.add(LSTM(units= 100, return_sequences=True, input_shape=(x_train.shape[1],1)))\n",
    "model.add(Dropout(0.2))\n",
    "model.add(LSTM(units= 100, return_sequences=True))\n",
    "model.add(Dropout(0.2))\n",
    "model.add(LSTM(units= 100))\n",
    "model.add(Dropout(0.2))\n",
    "model.add(Dense(units=1))"
   ]
  },
  {
   "cell_type": "code",
   "execution_count": 18,
   "metadata": {
    "scrolled": true
   },
   "outputs": [
    {
     "name": "stdout",
     "output_type": "stream",
     "text": [
      "Model: \"sequential_1\"\n",
      "_________________________________________________________________\n",
      "Layer (type)                 Output Shape              Param #   \n",
      "=================================================================\n",
      "lstm_1 (LSTM)                (None, 50, 100)           40800     \n",
      "_________________________________________________________________\n",
      "dropout_1 (Dropout)          (None, 50, 100)           0         \n",
      "_________________________________________________________________\n",
      "lstm_2 (LSTM)                (None, 50, 100)           80400     \n",
      "_________________________________________________________________\n",
      "dropout_2 (Dropout)          (None, 50, 100)           0         \n",
      "_________________________________________________________________\n",
      "lstm_3 (LSTM)                (None, 100)               80400     \n",
      "_________________________________________________________________\n",
      "dropout_3 (Dropout)          (None, 100)               0         \n",
      "_________________________________________________________________\n",
      "dense_1 (Dense)              (None, 1)                 101       \n",
      "=================================================================\n",
      "Total params: 201,701\n",
      "Trainable params: 201,701\n",
      "Non-trainable params: 0\n",
      "_________________________________________________________________\n"
     ]
    }
   ],
   "source": [
    "model.summary()"
   ]
  },
  {
   "cell_type": "code",
   "execution_count": 19,
   "metadata": {},
   "outputs": [],
   "source": [
    "model.compile(loss='mean_squared_error', optimizer ='adam')"
   ]
  },
  {
   "cell_type": "code",
   "execution_count": 20,
   "metadata": {},
   "outputs": [
    {
     "name": "stdout",
     "output_type": "stream",
     "text": [
      "Epoch 1/50\n",
      "1837/1837 [==============================] - 39s 21ms/step - loss: 0.0101\n",
      "Epoch 2/50\n",
      "1837/1837 [==============================] - 28s 15ms/step - loss: 0.0015\n",
      "Epoch 3/50\n",
      "1837/1837 [==============================] - 31s 17ms/step - loss: 0.0013\n",
      "Epoch 4/50\n",
      "1837/1837 [==============================] - 30s 16ms/step - loss: 0.0014\n",
      "Epoch 5/50\n",
      "1837/1837 [==============================] - 30s 16ms/step - loss: 0.0014\n",
      "Epoch 6/50\n",
      "1837/1837 [==============================] - 36s 20ms/step - loss: 0.0012\n",
      "Epoch 7/50\n",
      "1837/1837 [==============================] - 38s 21ms/step - loss: 0.0013\n",
      "Epoch 8/50\n",
      "1837/1837 [==============================] - 39s 21ms/step - loss: 0.0011\n",
      "Epoch 9/50\n",
      "1837/1837 [==============================] - 33s 18ms/step - loss: 0.0011\n",
      "Epoch 10/50\n",
      "1837/1837 [==============================] - 29s 16ms/step - loss: 0.0013\n",
      "Epoch 11/50\n",
      "1837/1837 [==============================] - 34s 19ms/step - loss: 0.0013\n",
      "Epoch 12/50\n",
      "1837/1837 [==============================] - 32s 17ms/step - loss: 0.0013\n",
      "Epoch 13/50\n",
      "1837/1837 [==============================] - 30s 16ms/step - loss: 0.0010\n",
      "Epoch 14/50\n",
      "1837/1837 [==============================] - 30s 16ms/step - loss: 0.0010\n",
      "Epoch 15/50\n",
      "1837/1837 [==============================] - 28s 16ms/step - loss: 9.5511e-04\n",
      "Epoch 16/50\n",
      "1837/1837 [==============================] - 29s 16ms/step - loss: 9.6356e-04\n",
      "Epoch 17/50\n",
      "1837/1837 [==============================] - 34s 19ms/step - loss: 9.0398e-04\n",
      "Epoch 18/50\n",
      "1837/1837 [==============================] - 31s 17ms/step - loss: 9.3706e-04\n",
      "Epoch 19/50\n",
      "1837/1837 [==============================] - 28s 15ms/step - loss: 9.3949e-04\n",
      "Epoch 20/50\n",
      "1837/1837 [==============================] - 31s 17ms/step - loss: 8.2334e-04\n",
      "Epoch 21/50\n",
      "1837/1837 [==============================] - 30s 16ms/step - loss: 9.2473e-04\n",
      "Epoch 22/50\n",
      "1837/1837 [==============================] - 30s 16ms/step - loss: 8.4889e-04\n",
      "Epoch 23/50\n",
      "1837/1837 [==============================] - 29s 16ms/step - loss: 7.8351e-04\n",
      "Epoch 24/50\n",
      "1837/1837 [==============================] - 29s 16ms/step - loss: 8.2311e-04\n",
      "Epoch 25/50\n",
      "1837/1837 [==============================] - 30s 16ms/step - loss: 8.4156e-04\n",
      "Epoch 26/50\n",
      "1837/1837 [==============================] - 33s 18ms/step - loss: 8.4283e-04\n",
      "Epoch 27/50\n",
      "1837/1837 [==============================] - 32s 18ms/step - loss: 7.8853e-04\n",
      "Epoch 28/50\n",
      "1837/1837 [==============================] - 33s 18ms/step - loss: 7.4731e-04\n",
      "Epoch 29/50\n",
      "1837/1837 [==============================] - 33s 18ms/step - loss: 8.1099e-04\n",
      "Epoch 30/50\n",
      "1837/1837 [==============================] - 29s 16ms/step - loss: 7.0775e-04\n",
      "Epoch 31/50\n",
      "1837/1837 [==============================] - 33s 18ms/step - loss: 6.4939e-04\n",
      "Epoch 32/50\n",
      "1837/1837 [==============================] - 32s 17ms/step - loss: 6.8412e-04\n",
      "Epoch 33/50\n",
      "1837/1837 [==============================] - 29s 16ms/step - loss: 7.6023e-04\n",
      "Epoch 34/50\n",
      "1837/1837 [==============================] - 31s 17ms/step - loss: 6.6629e-04\n",
      "Epoch 35/50\n",
      "1837/1837 [==============================] - 30s 16ms/step - loss: 7.5191e-04\n",
      "Epoch 36/50\n",
      "1837/1837 [==============================] - 32s 17ms/step - loss: 7.6242e-04\n",
      "Epoch 37/50\n",
      "1837/1837 [==============================] - 30s 16ms/step - loss: 7.2006e-04\n",
      "Epoch 38/50\n",
      "1837/1837 [==============================] - 30s 17ms/step - loss: 7.2568e-04\n",
      "Epoch 39/50\n",
      "1837/1837 [==============================] - 28s 15ms/step - loss: 5.9116e-04\n",
      "Epoch 40/50\n",
      "1837/1837 [==============================] - 28s 15ms/step - loss: 6.1882e-04\n",
      "Epoch 41/50\n",
      "1837/1837 [==============================] - 28s 15ms/step - loss: 7.8189e-04\n",
      "Epoch 42/50\n",
      "1837/1837 [==============================] - 32s 17ms/step - loss: 6.1164e-04\n",
      "Epoch 43/50\n",
      "1837/1837 [==============================] - 29s 16ms/step - loss: 5.6644e-04\n",
      "Epoch 44/50\n",
      "1837/1837 [==============================] - 29s 16ms/step - loss: 5.9204e-04\n",
      "Epoch 45/50\n",
      "1837/1837 [==============================] - 30s 16ms/step - loss: 5.6717e-04\n",
      "Epoch 46/50\n",
      "1837/1837 [==============================] - 30s 17ms/step - loss: 6.8188e-04\n",
      "Epoch 47/50\n",
      "1837/1837 [==============================] - 30s 16ms/step - loss: 5.5273e-04\n",
      "Epoch 48/50\n",
      "1837/1837 [==============================] - 35s 19ms/step - loss: 6.3618e-04\n",
      "Epoch 49/50\n",
      "1837/1837 [==============================] - 29s 16ms/step - loss: 5.8117e-04\n",
      "Epoch 50/50\n",
      "1837/1837 [==============================] - 31s 17ms/step - loss: 6.7681e-04\n"
     ]
    },
    {
     "data": {
      "text/plain": [
       "<keras.callbacks.callbacks.History at 0x2be7511cd30>"
      ]
     },
     "execution_count": 20,
     "metadata": {},
     "output_type": "execute_result"
    }
   ],
   "source": [
    "model.fit(x_train, y_train, epochs=50, batch_size=32)\n"
   ]
  },
  {
   "cell_type": "code",
   "execution_count": 21,
   "metadata": {},
   "outputs": [
    {
     "name": "stdout",
     "output_type": "stream",
     "text": [
      "range(1887, 2359)\n"
     ]
    },
    {
     "data": {
      "image/png": "[encoded data removed]",
      "text/plain": [
       "<Figure size 864x864 with 1 Axes>"
      ]
     },
     "metadata": {
      "needs_background": "light"
     },
     "output_type": "display_data"
    }
   ],
   "source": [
    "#visualizing our predictions\n",
    "%matplotlib inline\n",
    "predictions = model.predict(x_test)\n",
    "predictions = scaler.inverse_transform(predictions)\n",
    "\n",
    "fig, ax = plt.subplots(figsize=(12,12))\n",
    "plt.plot(df, color='red', label='original Stockprice')\n",
    "ax.plot(range(len(y_train)+50, len(y_train)+50+len(predictions)),predictions,color='blue', label='predicted')\n",
    "plt.legend()\n",
    "print(range(len(y_train)+50, len(y_train)+50+len(predictions)))"
   ]
  },
  {
   "cell_type": "code",
   "execution_count": 22,
   "metadata": {},
   "outputs": [
    {
     "data": {
      "text/plain": [
       "<matplotlib.legend.Legend at 0x2bf714e0a20>"
      ]
     },
     "execution_count": 22,
     "metadata": {},
     "output_type": "execute_result"
    },
    {
     "data": {
      "image/png": "[encoded data removed]",
      "text/plain": [
       "<Figure size 576x288 with 1 Axes>"
      ]
     },
     "metadata": {
      "needs_background": "light"
     },
     "output_type": "display_data"
    }
   ],
   "source": [
    "y_test_scaled = scaler.inverse_transform(y_test.reshape(-1,1))\n",
    "\n",
    "fig, ax = plt.subplots(figsize=(8,4))\n",
    "ax.plot(y_test_scaled, color='red', label = 'True Price of testing set')\n",
    "plt.plot(predictions, color = 'blue', label='predicted')\n",
    "plt.legend()"
   ]
  }
 ],
 "metadata": {
  "kernelspec": {
   "display_name": "Python 3",
   "language": "python",
   "name": "python3"
  },
  "language_info": {
   "codemirror_mode": {
    "name": "ipython",
    "version": 3
   },
   "file_extension": ".py",
   "mimetype": "text/x-python",
   "name": "python",
   "nbconvert_exporter": "python",
   "pygments_lexer": "ipython3",
   "version": "3.7.3"
  }
 },
 "nbformat": 4,
 "nbformat_minor": 2
}
